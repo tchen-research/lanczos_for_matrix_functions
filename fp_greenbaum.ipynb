{
 "cells": [
  {
   "cell_type": "code",
   "execution_count": 1,
   "metadata": {
    "execution": {
     "iopub.execute_input": "2024-09-07T02:06:30.544810Z",
     "iopub.status.busy": "2024-09-07T02:06:30.544398Z",
     "iopub.status.idle": "2024-09-07T02:06:31.362975Z",
     "shell.execute_reply": "2024-09-07T02:06:31.361680Z"
    }
   },
   "outputs": [],
   "source": [
    "import numpy as np\n",
    "import matplotlib.pyplot as plt\n",
    "import matplotlib as mpl\n",
    "\n",
    "from bin import *\n",
    "\n",
    "from IPython.display import clear_output\n",
    "%load_ext autoreload\n",
    "%autoreload 2"
   ]
  },
  {
   "cell_type": "code",
   "execution_count": 2,
   "metadata": {
    "execution": {
     "iopub.execute_input": "2024-09-07T02:06:31.367469Z",
     "iopub.status.busy": "2024-09-07T02:06:31.367067Z",
     "iopub.status.idle": "2024-09-07T02:06:31.533542Z",
     "shell.execute_reply": "2024-09-07T02:06:31.532567Z"
    }
   },
   "outputs": [],
   "source": [
    "mpl.use(\"pgf\")\n",
    "\n",
    "mpl.rcParams.update({\n",
    "    \"pgf.texsystem\": \"lualatex\",\n",
    "    'font.family': 'serif',\n",
    "    'font.size' : 8,\n",
    "    'text.usetex': True,\n",
    "    'pgf.rcfonts': False,\n",
    "    'pgf.preamble': tex_preamble,\n",
    "})"
   ]
  },
  {
   "cell_type": "code",
   "execution_count": 3,
   "metadata": {
    "execution": {
     "iopub.execute_input": "2024-09-07T02:06:31.538224Z",
     "iopub.status.busy": "2024-09-07T02:06:31.537894Z",
     "iopub.status.idle": "2024-09-07T02:06:31.559121Z",
     "shell.execute_reply": "2024-09-07T02:06:31.558091Z"
    }
   },
   "outputs": [],
   "source": [
    "colors = [(1,1,1), colors[1]]\n",
    "C1_cmap = mpl.colors.LinearSegmentedColormap.from_list(\"C1\", colors, N=20)"
   ]
  },
  {
   "cell_type": "code",
   "execution_count": 4,
   "metadata": {
    "execution": {
     "iopub.execute_input": "2024-09-07T02:06:31.564163Z",
     "iopub.status.busy": "2024-09-07T02:06:31.563263Z",
     "iopub.status.idle": "2024-09-07T02:06:31.594383Z",
     "shell.execute_reply": "2024-09-07T02:06:31.593447Z"
    }
   },
   "outputs": [],
   "source": [
    "n = 50\n",
    "Λ = model_problem_spectrum(n,.6,1e3)\n",
    "A = np.diag(Λ)\n",
    "b = np.ones(n)\n",
    "b /= np.linalg.norm(b)\n",
    "\n",
    "k_max = 30\n",
    "Q,(α,β) = lanczos_reorth(A,b,k_max,reorth=0)\n",
    "Q_ro,(α_ro,β_ro) = lanczos_reorth(A,b,k_max,reorth=k_max)\n",
    "\n",
    "T = np.diag(α) + np.diag(β[:k_max-1],1) + np.diag(β[:k_max-1],-1)\n",
    "T_ro = np.diag(α_ro) + np.diag(β_ro[:k_max-1],1) + np.diag(β_ro[:k_max-1],-1)\n",
    "\n",
    "T_err = np.abs(T-T_ro)\n",
    "Q_err = np.abs(Q[:,:k_max] - Q_ro[:,:k_max])\n",
    "QQI_err = np.abs(Q[:,:k_max].T@Q[:,:k_max] - np.eye(k_max))"
   ]
  },
  {
   "cell_type": "code",
   "execution_count": 5,
   "metadata": {
    "execution": {
     "iopub.execute_input": "2024-09-07T02:06:31.598941Z",
     "iopub.status.busy": "2024-09-07T02:06:31.598616Z",
     "iopub.status.idle": "2024-09-07T02:06:31.623262Z",
     "shell.execute_reply": "2024-09-07T02:06:31.622283Z"
    }
   },
   "outputs": [
    {
     "data": {
      "text/plain": [
       "array([ 203.57273469,  345.96074429,  345.96081633,  345.96081633,\n",
       "        588.16734694,  588.16734694,  588.16734694, 1000.        ,\n",
       "       1000.        , 1000.        ])"
      ]
     },
     "execution_count": 5,
     "metadata": {},
     "output_type": "execute_result"
    }
   ],
   "source": [
    "np.linalg.eigvalsh(T)[-10:]"
   ]
  },
  {
   "cell_type": "code",
   "execution_count": 6,
   "metadata": {
    "execution": {
     "iopub.execute_input": "2024-09-07T02:06:31.689973Z",
     "iopub.status.busy": "2024-09-07T02:06:31.689578Z",
     "iopub.status.idle": "2024-09-07T02:06:31.713852Z",
     "shell.execute_reply": "2024-09-07T02:06:31.712559Z"
    }
   },
   "outputs": [
    {
     "data": {
      "text/plain": [
       "array([   9.21846392,   15.03987587,   24.97051977,   41.90207739,\n",
       "         70.75548082,  119.90138776,  203.57273469,  345.96081633,\n",
       "        588.16734694, 1000.        ])"
      ]
     },
     "execution_count": 6,
     "metadata": {},
     "output_type": "execute_result"
    }
   ],
   "source": [
    "np.linalg.eigvalsh(T_ro)[-10:]"
   ]
  },
  {
   "cell_type": "code",
   "execution_count": 7,
   "metadata": {
    "execution": {
     "iopub.execute_input": "2024-09-07T02:06:31.718663Z",
     "iopub.status.busy": "2024-09-07T02:06:31.718284Z",
     "iopub.status.idle": "2024-09-07T02:06:31.739257Z",
     "shell.execute_reply": "2024-09-07T02:06:31.738267Z"
    }
   },
   "outputs": [
    {
     "data": {
      "text/plain": [
       "array([   9.21846392,   15.03987587,   24.97051977,   41.90207739,\n",
       "         70.75548082,  119.90138776,  203.57273469,  345.96081633,\n",
       "        588.16734694, 1000.        ])"
      ]
     },
     "execution_count": 7,
     "metadata": {},
     "output_type": "execute_result"
    }
   ],
   "source": [
    "Λ[-10:]"
   ]
  },
  {
   "cell_type": "code",
   "execution_count": 8,
   "metadata": {
    "execution": {
     "iopub.execute_input": "2024-09-07T02:06:31.743797Z",
     "iopub.status.busy": "2024-09-07T02:06:31.743380Z",
     "iopub.status.idle": "2024-09-07T02:06:47.826027Z",
     "shell.execute_reply": "2024-09-07T02:06:47.824980Z"
    }
   },
   "outputs": [],
   "source": [
    "fig = plt.figure(figsize=(figure_width*cm,figure_height*cm))\n",
    "\n",
    "axs = []\n",
    "axs.append(fig.add_axes([left, bottom, width2, height]))\n",
    "axs.append(fig.add_axes([left+hoffset2, bottom, width2, height]))\n",
    "axs.append(fig.add_axes([left, bottom, width, .02]))\n",
    "\n",
    "for ax in axs:\n",
    "    ax.get_xaxis().set_ticks([])\n",
    "    ax.get_yaxis().set_ticks([])\n",
    "\n",
    "im = axs[0].imshow(T_err,norm=mpl.colors.LogNorm(vmin=1e-16,vmax=1),cmap=C1_cmap)\n",
    "axs[1].imshow(QQI_err,norm=mpl.colors.LogNorm(vmin=1e-16,vmax=1),cmap=C1_cmap)\n",
    "\n",
    "fig.colorbar(im,cax=axs[2],orientation='horizontal')\n",
    "\n",
    "plt.savefig('imgs/lanczos_unstable.pdf')\n",
    "plt.close()"
   ]
  },
  {
   "cell_type": "code",
   "execution_count": 9,
   "metadata": {
    "execution": {
     "iopub.execute_input": "2024-09-07T02:06:47.830938Z",
     "iopub.status.busy": "2024-09-07T02:06:47.830586Z",
     "iopub.status.idle": "2024-09-07T02:06:47.852271Z",
     "shell.execute_reply": "2024-09-07T02:06:47.851089Z"
    }
   },
   "outputs": [],
   "source": [
    "e0 = np.arange(k_max)==0\n",
    "m = get_chebyshev_moments(T,e0,k_max,min(Λ),max(Λ))\n",
    "m_ro = get_chebyshev_moments(T_ro,e0,k_max,min(Λ),max(Λ))"
   ]
  },
  {
   "cell_type": "code",
   "execution_count": 10,
   "metadata": {
    "execution": {
     "iopub.execute_input": "2024-09-07T02:06:47.856762Z",
     "iopub.status.busy": "2024-09-07T02:06:47.856440Z",
     "iopub.status.idle": "2024-09-07T02:06:53.938935Z",
     "shell.execute_reply": "2024-09-07T02:06:53.937827Z"
    }
   },
   "outputs": [],
   "source": [
    "fig = plt.figure(figsize=(figure_width*cm,figure_height*cm))\n",
    "\n",
    "ax = fig.add_axes([left, bottom, width, height])\n",
    "ax.plot(np.abs(m-m_ro),**line_styles['l1'],ls='None')\n",
    "\n",
    "ax.set_xlabel('degree $n$')\n",
    "ax.set_ylabel('error')\n",
    "ax.set_yscale('log')\n",
    "ax.set_ylim(1e-16,1)\n",
    "\n",
    "plt.savefig('imgs/moment_err.pdf')\n",
    "plt.close()"
   ]
  },
  {
   "cell_type": "code",
   "execution_count": 11,
   "metadata": {
    "execution": {
     "iopub.execute_input": "2024-09-07T02:06:53.944620Z",
     "iopub.status.busy": "2024-09-07T02:06:53.943591Z",
     "iopub.status.idle": "2024-09-07T02:06:53.997641Z",
     "shell.execute_reply": "2024-09-07T02:06:53.993128Z"
    }
   },
   "outputs": [],
   "source": [
    "α_e,β_e,_ = extend_t(A,α,β,Q,verbose=0)\n",
    "\n",
    "T_e = np.diag(α_e) + np.diag(β_e[:-1],1) + np.diag(β_e[:-1],-1)\n",
    "T_e = T_e.astype(np.double)\n",
    "\n",
    "Λ_e,V_e = np.linalg.eigh(T_e)"
   ]
  },
  {
   "cell_type": "code",
   "execution_count": 12,
   "metadata": {
    "execution": {
     "iopub.execute_input": "2024-09-07T02:06:54.003942Z",
     "iopub.status.busy": "2024-09-07T02:06:54.003464Z",
     "iopub.status.idle": "2024-09-07T02:07:01.132165Z",
     "shell.execute_reply": "2024-09-07T02:07:01.131159Z"
    }
   },
   "outputs": [],
   "source": [
    "fig = plt.figure(figsize=(figure_width*cm,figure_height*cm))\n",
    "\n",
    "ax = fig.add_axes([left, bottom, width, height])\n",
    "\n",
    "for λ,ω in zip(Λ,b**2):\n",
    "    plt.plot([λ,λ],[0,ω],**line_styles_nomarker['l1'])\n",
    "ax.plot(Λ,b**2,**line_styles['l1'],ls='None')\n",
    "\n",
    "for λ,ω in zip(Λ_e,V_e[0]**2):\n",
    "    plt.plot([λ,λ],[0,ω],**line_styles_nomarker['l2'])\n",
    "ax.plot(Λ_e,V_e[0]**2,**line_styles['l2'],ls='None')\n",
    "\n",
    "\n",
    "ax.grid(True,linestyle=':',linewidth=.5)\n",
    "\n",
    "ax.get_xaxis().set_ticks([])\n",
    "ax.get_yaxis().set_ticks([])\n",
    "\n",
    "ax.set_yscale('symlog',linthresh=1e-20)\n",
    "ax.set_yticks([1e-20,1e-15,1e-10,1e-5,1e0])\n",
    "\n",
    "ax.set_xscale('log')\n",
    "ax.set_xlabel('eigenvalue position: $x$')\n",
    "ax.set_ylabel('density')\n",
    "\n",
    "plt.savefig('imgs/finite_precision_greenbaum.pdf')\n",
    "plt.close()"
   ]
  },
  {
   "cell_type": "code",
   "execution_count": null,
   "metadata": {},
   "outputs": [],
   "source": []
  }
 ],
 "metadata": {
  "kernelspec": {
   "display_name": "Python 3 (ipykernel)",
   "language": "python",
   "name": "python3"
  },
  "language_info": {
   "codemirror_mode": {
    "name": "ipython",
    "version": 3
   },
   "file_extension": ".py",
   "mimetype": "text/x-python",
   "name": "python",
   "nbconvert_exporter": "python",
   "pygments_lexer": "ipython3",
   "version": "3.10.9"
  }
 },
 "nbformat": 4,
 "nbformat_minor": 4
}
