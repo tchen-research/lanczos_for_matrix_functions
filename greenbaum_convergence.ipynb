{
 "cells": [
  {
   "cell_type": "code",
   "execution_count": 1,
   "metadata": {
    "execution": {
     "iopub.execute_input": "2024-09-07T02:08:07.925041Z",
     "iopub.status.busy": "2024-09-07T02:08:07.924529Z",
     "iopub.status.idle": "2024-09-07T02:08:08.704099Z",
     "shell.execute_reply": "2024-09-07T02:08:08.703071Z"
    }
   },
   "outputs": [],
   "source": [
    "import numpy as np\n",
    "import matplotlib.pyplot as plt\n",
    "import matplotlib as mpl\n",
    "\n",
    "from bin import *\n",
    "\n",
    "from IPython.display import clear_output\n",
    "%load_ext autoreload\n",
    "%autoreload 2"
   ]
  },
  {
   "cell_type": "code",
   "execution_count": 2,
   "metadata": {
    "execution": {
     "iopub.execute_input": "2024-09-07T02:08:08.708707Z",
     "iopub.status.busy": "2024-09-07T02:08:08.708276Z",
     "iopub.status.idle": "2024-09-07T02:08:08.878965Z",
     "shell.execute_reply": "2024-09-07T02:08:08.877842Z"
    }
   },
   "outputs": [],
   "source": [
    "mpl.use(\"pgf\")\n",
    "\n",
    "mpl.rcParams.update({\n",
    "    \"pgf.texsystem\": \"lualatex\",\n",
    "    'font.family': 'serif',\n",
    "    'font.size' : 8,\n",
    "    'text.usetex': True,\n",
    "    'pgf.rcfonts': False,\n",
    "    'pgf.preamble': tex_preamble,\n",
    "})"
   ]
  },
  {
   "cell_type": "code",
   "execution_count": 3,
   "metadata": {
    "execution": {
     "iopub.execute_input": "2024-09-07T02:08:08.883752Z",
     "iopub.status.busy": "2024-09-07T02:08:08.883306Z",
     "iopub.status.idle": "2024-09-07T02:08:08.906906Z",
     "shell.execute_reply": "2024-09-07T02:08:08.905628Z"
    }
   },
   "outputs": [],
   "source": [
    "n = 50\n",
    "Λ = model_problem_spectrum(n,.6,1e3)\n",
    "λmin = np.min(Λ)\n",
    "λmax = np.max(Λ)\n",
    "\n",
    "A = np.diag(Λ)\n",
    "\n",
    "b = np.ones(n)\n",
    "b /= np.linalg.norm(b)\n",
    "\n",
    "f = lambda x: 1/x\n",
    "\n",
    "fAb = np.diag(f(Λ))@b"
   ]
  },
  {
   "cell_type": "code",
   "execution_count": 4,
   "metadata": {
    "execution": {
     "iopub.execute_input": "2024-09-07T02:08:08.912218Z",
     "iopub.status.busy": "2024-09-07T02:08:08.911820Z",
     "iopub.status.idle": "2024-09-07T02:08:08.939258Z",
     "shell.execute_reply": "2024-09-07T02:08:08.938078Z"
    }
   },
   "outputs": [],
   "source": [
    "k_max = 23\n",
    "Q_ro,(α_ro,β_ro) = lanczos_reorth(A,b,k_max,reorth=k_max)\n",
    "\n",
    "err_FA_ro = np.full(k_max,np.nan)\n",
    "for k in range(k_max):\n",
    "    err_FA_ro[k] = np.linalg.norm(np.diag(np.sqrt(Λ))@(fAb - lanczos_FA(f,Q_ro,α_ro,β_ro,k)))/np.linalg.norm(np.diag(np.sqrt(Λ))@b)"
   ]
  },
  {
   "cell_type": "code",
   "execution_count": 5,
   "metadata": {
    "execution": {
     "iopub.execute_input": "2024-09-07T02:08:08.943909Z",
     "iopub.status.busy": "2024-09-07T02:08:08.943555Z",
     "iopub.status.idle": "2024-09-07T02:08:08.986125Z",
     "shell.execute_reply": "2024-09-07T02:08:08.985299Z"
    }
   },
   "outputs": [],
   "source": [
    "k_max = 44\n",
    "Q,(α,β) = lanczos_reorth(A,b,k_max,reorth=0)\n",
    "\n",
    "err_FA = np.full(k_max,np.nan)\n",
    "for k in range(k_max):\n",
    "    err_FA[k] = np.linalg.norm(np.diag(np.sqrt(Λ))@(fAb - lanczos_FA(f,Q,α,β,k)))/np.linalg.norm(np.diag(np.sqrt(Λ))@b)"
   ]
  },
  {
   "cell_type": "code",
   "execution_count": 6,
   "metadata": {
    "execution": {
     "iopub.execute_input": "2024-09-07T02:08:08.990771Z",
     "iopub.status.busy": "2024-09-07T02:08:08.990422Z",
     "iopub.status.idle": "2024-09-07T02:08:09.105267Z",
     "shell.execute_reply": "2024-09-07T02:08:09.104206Z"
    }
   },
   "outputs": [],
   "source": [
    "k_max = 44\n",
    "cluster_size = 10\n",
    "Λ_sim = (Λ[:,None] + np.linspace(-6e-14,6e-14,cluster_size)).flatten()\n",
    "A_sim = np.diag(Λ_sim)\n",
    "b_sim = np.ones(n*cluster_size)\n",
    "b_sim /= np.linalg.norm(b_sim)\n",
    "\n",
    "fAb_sim = np.diag(f(Λ_sim))@b_sim\n",
    "\n",
    "Q_sim,(α_sim_ro,β_sim_ro) = lanczos_reorth(A_sim,b_sim,k_max,reorth=k)\n",
    "Q_sim,(α_sim,β_sim) = lanczos_reorth(A_sim,b_sim,k_max,reorth=0)\n",
    "\n",
    "err_FA_sim = np.full(k_max,np.nan)\n",
    "for k in range(k_max):\n",
    "    err_FA_sim[k] = np.linalg.norm(np.diag(np.sqrt(Λ_sim))@(fAb_sim - lanczos_FA(f,Q_sim,α_sim,β_sim,k)))/np.linalg.norm(np.diag(np.sqrt(Λ_sim))@b_sim)"
   ]
  },
  {
   "cell_type": "code",
   "execution_count": 7,
   "metadata": {
    "execution": {
     "iopub.execute_input": "2024-09-07T02:08:09.111785Z",
     "iopub.status.busy": "2024-09-07T02:08:09.110478Z",
     "iopub.status.idle": "2024-09-07T02:08:25.072437Z",
     "shell.execute_reply": "2024-09-07T02:08:25.071193Z"
    }
   },
   "outputs": [],
   "source": [
    "fig = plt.figure(figsize=(figure_width*cm,figure_height*cm))\n",
    "\n",
    "ax1 = fig.add_axes([left, bottom+height/2, width, height/2.2])\n",
    "ax2 = fig.add_axes([left, bottom, width, height/2.2])\n",
    "\n",
    "ax1.plot(α,**line_styles['l1'])\n",
    "ax1.plot(α_ro,**line_styles['l3'])\n",
    "ax1.plot(α_sim_ro,**line_styles['l2'])\n",
    "# ax1.plot(α_sim,**line_styles['l4'])\n",
    "\n",
    "ax2.plot(β,**line_styles['l1'])\n",
    "ax2.plot(β_ro,**line_styles['l3'])\n",
    "ax2.plot(β_sim_ro,**line_styles['l2'])\n",
    "# ax2.plot(β_sim,**line_styles['l4'])\n",
    "ax2.set_xlabel('index: $k$')\n",
    "ax1.set_ylabel('error')\n",
    "ax2.set_ylabel('error')\n",
    "\n",
    "ax1.set_yscale('log')\n",
    "ax2.set_yscale('log')\n",
    "\n",
    "plt.savefig('imgs/greeenbaum_intervals.pdf')\n",
    "plt.close()"
   ]
  },
  {
   "cell_type": "code",
   "execution_count": 8,
   "metadata": {
    "execution": {
     "iopub.execute_input": "2024-09-07T02:08:25.078226Z",
     "iopub.status.busy": "2024-09-07T02:08:25.077673Z",
     "iopub.status.idle": "2024-09-07T02:08:31.380421Z",
     "shell.execute_reply": "2024-09-07T02:08:31.379319Z"
    }
   },
   "outputs": [],
   "source": [
    "fig = plt.figure(figsize=(figure_width*cm,figure_height*cm))\n",
    "\n",
    "ax = fig.add_axes([left, bottom, width, height])\n",
    "\n",
    "ax.plot(err_FA,**line_styles['l1'],label='no reorth')\n",
    "ax.plot(err_FA_sim,**line_styles['l3'],label='clusters')\n",
    "ax.plot(err_FA_ro,**line_styles['l2'],label='reorth')\n",
    "\n",
    "ax.grid(True,linestyle=':',linewidth=.5)\n",
    "\n",
    "ax.set_xlabel('number of matvecs: $k$')\n",
    "ax.set_ylabel('error norm')\n",
    "ax.set_yscale('log')\n",
    "\n",
    "plt.savefig('imgs/greeenbaum_convergence.pdf')\n",
    "plt.close()"
   ]
  },
  {
   "cell_type": "code",
   "execution_count": null,
   "metadata": {},
   "outputs": [],
   "source": []
  },
  {
   "cell_type": "code",
   "execution_count": null,
   "metadata": {},
   "outputs": [],
   "source": []
  }
 ],
 "metadata": {
  "kernelspec": {
   "display_name": "Python 3 (ipykernel)",
   "language": "python",
   "name": "python3"
  },
  "language_info": {
   "codemirror_mode": {
    "name": "ipython",
    "version": 3
   },
   "file_extension": ".py",
   "mimetype": "text/x-python",
   "name": "python",
   "nbconvert_exporter": "python",
   "pygments_lexer": "ipython3",
   "version": "3.10.9"
  }
 },
 "nbformat": 4,
 "nbformat_minor": 4
}
