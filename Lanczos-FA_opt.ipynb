{
 "cells": [
  {
   "cell_type": "code",
   "execution_count": 1,
   "metadata": {
    "execution": {
     "iopub.execute_input": "2024-09-07T02:08:38.185060Z",
     "iopub.status.busy": "2024-09-07T02:08:38.184381Z",
     "iopub.status.idle": "2024-09-07T02:08:38.969239Z",
     "shell.execute_reply": "2024-09-07T02:08:38.968136Z"
    }
   },
   "outputs": [],
   "source": [
    "import numpy as np\n",
    "import matplotlib.pyplot as plt\n",
    "import matplotlib as mpl\n",
    "\n",
    "from bin import *\n",
    "\n",
    "from IPython.display import clear_output\n",
    "%load_ext autoreload\n",
    "%autoreload 2"
   ]
  },
  {
   "cell_type": "code",
   "execution_count": 2,
   "metadata": {
    "execution": {
     "iopub.execute_input": "2024-09-07T02:08:38.974135Z",
     "iopub.status.busy": "2024-09-07T02:08:38.973690Z",
     "iopub.status.idle": "2024-09-07T02:08:39.150350Z",
     "shell.execute_reply": "2024-09-07T02:08:39.149265Z"
    }
   },
   "outputs": [],
   "source": [
    "mpl.use(\"pgf\")\n",
    "\n",
    "mpl.rcParams.update({\n",
    "    \"pgf.texsystem\": \"lualatex\",\n",
    "    'font.family': 'serif',\n",
    "    'font.size' : 8,\n",
    "    'text.usetex': True,\n",
    "    'pgf.rcfonts': False,\n",
    "    'pgf.preamble': tex_preamble,\n",
    "})"
   ]
  },
  {
   "cell_type": "code",
   "execution_count": 3,
   "metadata": {
    "execution": {
     "iopub.execute_input": "2024-09-07T02:08:39.155371Z",
     "iopub.status.busy": "2024-09-07T02:08:39.154999Z",
     "iopub.status.idle": "2024-09-07T02:08:39.176706Z",
     "shell.execute_reply": "2024-09-07T02:08:39.175505Z"
    }
   },
   "outputs": [],
   "source": [
    "n = 100\n",
    "Λ = model_problem_spectrum(n,.6,1e3)\n",
    "λmin = np.min(Λ)\n",
    "λmax = np.max(Λ)\n",
    "\n",
    "A = np.diag(Λ)\n",
    "\n",
    "v = np.ones(n)\n",
    "v /= np.linalg.norm(v)\n",
    "\n",
    "f = lambda x: np.sqrt(x)\n",
    "\n",
    "fAv = np.diag(f(Λ))@v"
   ]
  },
  {
   "cell_type": "code",
   "execution_count": 4,
   "metadata": {
    "execution": {
     "iopub.execute_input": "2024-09-07T02:08:39.181483Z",
     "iopub.status.busy": "2024-09-07T02:08:39.181062Z",
     "iopub.status.idle": "2024-09-07T02:08:39.205090Z",
     "shell.execute_reply": "2024-09-07T02:08:39.204047Z"
    }
   },
   "outputs": [],
   "source": [
    "k_max = 21\n",
    "Q_ro,(α_ro,β_ro) = lanczos_reorth(A,v,k_max,reorth=k_max)\n",
    "\n",
    "err_FA_ro = np.full(k_max,np.nan)\n",
    "for k in range(k_max):\n",
    "    err_FA_ro[k] = np.linalg.norm(fAv - lanczos_FA(f,Q_ro,α_ro,β_ro,k))"
   ]
  },
  {
   "cell_type": "code",
   "execution_count": 5,
   "metadata": {
    "execution": {
     "iopub.execute_input": "2024-09-07T02:08:39.210260Z",
     "iopub.status.busy": "2024-09-07T02:08:39.209733Z",
     "iopub.status.idle": "2024-09-07T02:08:39.232393Z",
     "shell.execute_reply": "2024-09-07T02:08:39.231287Z"
    }
   },
   "outputs": [],
   "source": [
    "err_opt = np.full(k_max,np.nan)\n",
    "for k in range(k_max):\n",
    "    err_opt[k] = np.linalg.norm(fAv - Q_ro[:,:k]@(Q_ro[:,:k].T@fAv))"
   ]
  },
  {
   "cell_type": "code",
   "execution_count": 6,
   "metadata": {
    "execution": {
     "iopub.execute_input": "2024-09-07T02:08:39.237030Z",
     "iopub.status.busy": "2024-09-07T02:08:39.236650Z",
     "iopub.status.idle": "2024-09-07T02:08:39.438104Z",
     "shell.execute_reply": "2024-09-07T02:08:39.437057Z"
    }
   },
   "outputs": [],
   "source": [
    "err_ℐ = np.full(k_max,np.nan)\n",
    "ℐ = np.linspace(λmin,λmax,2000)\n",
    "\n",
    "i=[0]\n",
    "for k in range(k_max):\n",
    "    i_add = np.argmax(np.min(np.abs(ℐ[i]-ℐ[:,None]),axis=1))\n",
    "    i = np.append(i,i_add)\n",
    "    i = np.sort(i)\n",
    "    i,p,ub,lb = remez(f,ℐ,k,i=i,tol=1e-12,max_iter=300)\n",
    "    err_ℐ[k] = ub"
   ]
  },
  {
   "cell_type": "code",
   "execution_count": 7,
   "metadata": {
    "execution": {
     "iopub.execute_input": "2024-09-07T02:08:39.442696Z",
     "iopub.status.busy": "2024-09-07T02:08:39.442084Z",
     "iopub.status.idle": "2024-09-07T02:08:55.129730Z",
     "shell.execute_reply": "2024-09-07T02:08:55.128721Z"
    }
   },
   "outputs": [],
   "source": [
    "fig = plt.figure(figsize=(figure_width*cm,figure_height*cm))\n",
    "\n",
    "ax = fig.add_axes([left, bottom, width, height])\n",
    "\n",
    "ax.plot(err_opt/err_opt[0],**line_styles['l2'])\n",
    "ax.plot(err_FA_ro/err_FA_ro[0],**line_styles['l1'])\n",
    "ax.plot(2*np.linalg.norm(v)*err_ℐ,**line_styles['l3'])\n",
    "\n",
    "ax.grid(True,linestyle=':',linewidth=.5)\n",
    "\n",
    "ax.set_xlabel('number of matvecs: $k$')\n",
    "ax.set_ylabel('error norm')\n",
    "ax.set_yscale('log')\n",
    "\n",
    "plt.savefig('imgs/Lanczos-FA_opt.pdf')\n",
    "plt.close()"
   ]
  },
  {
   "cell_type": "code",
   "execution_count": null,
   "metadata": {},
   "outputs": [],
   "source": []
  }
 ],
 "metadata": {
  "kernelspec": {
   "display_name": "Python 3 (ipykernel)",
   "language": "python",
   "name": "python3"
  },
  "language_info": {
   "codemirror_mode": {
    "name": "ipython",
    "version": 3
   },
   "file_extension": ".py",
   "mimetype": "text/x-python",
   "name": "python",
   "nbconvert_exporter": "python",
   "pygments_lexer": "ipython3",
   "version": "3.10.9"
  }
 },
 "nbformat": 4,
 "nbformat_minor": 4
}
