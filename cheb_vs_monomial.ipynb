{
 "cells": [
  {
   "cell_type": "code",
   "execution_count": 1,
   "metadata": {
    "execution": {
     "iopub.execute_input": "2024-09-07T02:06:07.010803Z",
     "iopub.status.busy": "2024-09-07T02:06:07.010459Z",
     "iopub.status.idle": "2024-09-07T02:06:07.746594Z",
     "shell.execute_reply": "2024-09-07T02:06:07.745624Z"
    }
   },
   "outputs": [],
   "source": [
    "import numpy as np\n",
    "import matplotlib.pyplot as plt\n",
    "import matplotlib as mpl\n",
    "\n",
    "from bin import *\n",
    "\n",
    "from IPython.display import clear_output\n",
    "%load_ext autoreload\n",
    "%autoreload 2"
   ]
  },
  {
   "cell_type": "code",
   "execution_count": 2,
   "metadata": {
    "execution": {
     "iopub.execute_input": "2024-09-07T02:06:07.751208Z",
     "iopub.status.busy": "2024-09-07T02:06:07.750808Z",
     "iopub.status.idle": "2024-09-07T02:06:07.917768Z",
     "shell.execute_reply": "2024-09-07T02:06:07.916679Z"
    }
   },
   "outputs": [],
   "source": [
    "mpl.use(\"pgf\")\n",
    "\n",
    "mpl.rcParams.update({\n",
    "    \"pgf.texsystem\": \"lualatex\",\n",
    "    'font.family': 'serif',\n",
    "    'font.size' : 8,\n",
    "    'text.usetex': True,\n",
    "    'pgf.rcfonts': False,\n",
    "    'pgf.preamble': tex_preamble,\n",
    "})"
   ]
  },
  {
   "cell_type": "code",
   "execution_count": 3,
   "metadata": {
    "execution": {
     "iopub.execute_input": "2024-09-07T02:06:07.922410Z",
     "iopub.status.busy": "2024-09-07T02:06:07.922037Z",
     "iopub.status.idle": "2024-09-07T02:06:07.941492Z",
     "shell.execute_reply": "2024-09-07T02:06:07.940374Z"
    }
   },
   "outputs": [],
   "source": [
    "n_pts = 500\n",
    "xx = np.linspace(-1,1,n_pts)"
   ]
  },
  {
   "cell_type": "code",
   "execution_count": 4,
   "metadata": {
    "execution": {
     "iopub.execute_input": "2024-09-07T02:06:07.945837Z",
     "iopub.status.busy": "2024-09-07T02:06:07.945508Z",
     "iopub.status.idle": "2024-09-07T02:06:23.733507Z",
     "shell.execute_reply": "2024-09-07T02:06:23.732467Z"
    }
   },
   "outputs": [],
   "source": [
    "fig = plt.figure(figsize=(figure_width*cm,figure_height*cm))\n",
    "\n",
    "axs = []\n",
    "axs.append(fig.add_axes([left, bottom, width2, height]))\n",
    "axs.append(fig.add_axes([left+hoffset2, bottom, width2, height]))\n",
    "\n",
    "n = 10\n",
    "axs[0].plot(xx,xx**n,**line_styles_nomarker['l1'])\n",
    "axs[0].plot(xx,xx**(n+2),**line_styles_nomarker['l2'])\n",
    "axs[0].plot(xx,xx**(n+2),**line_styles_nomarker1['l2'])\n",
    "\n",
    "axs[1].plot(xx,np.cos(np.arccos(xx)*n),**line_styles_nomarker['l1'])\n",
    "axs[1].plot(xx,np.cos(np.arccos(xx)*(n+2)),**line_styles_nomarker['l2'])\n",
    "axs[1].plot(xx,np.cos(np.arccos(xx)*(n+2)),**line_styles_nomarker1['l2'])\n",
    "\n",
    "axs[1].set_yticklabels('');\n",
    "\n",
    "plt.savefig('imgs/monomial_vs_cheb.pdf')\n",
    "plt.close()"
   ]
  },
  {
   "cell_type": "code",
   "execution_count": null,
   "metadata": {},
   "outputs": [],
   "source": []
  }
 ],
 "metadata": {
  "kernelspec": {
   "display_name": "Python 3 (ipykernel)",
   "language": "python",
   "name": "python3"
  },
  "language_info": {
   "codemirror_mode": {
    "name": "ipython",
    "version": 3
   },
   "file_extension": ".py",
   "mimetype": "text/x-python",
   "name": "python",
   "nbconvert_exporter": "python",
   "pygments_lexer": "ipython3",
   "version": "3.10.9"
  }
 },
 "nbformat": 4,
 "nbformat_minor": 4
}
