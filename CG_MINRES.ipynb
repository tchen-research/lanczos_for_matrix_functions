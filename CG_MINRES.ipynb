{
 "cells": [
  {
   "cell_type": "code",
   "execution_count": 1,
   "metadata": {
    "execution": {
     "iopub.execute_input": "2024-09-07T02:05:17.513430Z",
     "iopub.status.busy": "2024-09-07T02:05:17.513027Z",
     "iopub.status.idle": "2024-09-07T02:05:18.260069Z",
     "shell.execute_reply": "2024-09-07T02:05:18.259080Z"
    }
   },
   "outputs": [],
   "source": [
    "import numpy as np\n",
    "import matplotlib.pyplot as plt\n",
    "import matplotlib as mpl\n",
    "\n",
    "from bin import *\n",
    "\n",
    "from IPython.display import clear_output\n",
    "%load_ext autoreload\n",
    "%autoreload 2"
   ]
  },
  {
   "cell_type": "code",
   "execution_count": 2,
   "metadata": {
    "execution": {
     "iopub.execute_input": "2024-09-07T02:05:18.264615Z",
     "iopub.status.busy": "2024-09-07T02:05:18.264194Z",
     "iopub.status.idle": "2024-09-07T02:05:18.434249Z",
     "shell.execute_reply": "2024-09-07T02:05:18.433388Z"
    }
   },
   "outputs": [],
   "source": [
    "mpl.use(\"pgf\")\n",
    "\n",
    "mpl.rcParams.update({\n",
    "    \"pgf.texsystem\": \"lualatex\",\n",
    "    'font.family': 'serif',\n",
    "    'font.size' : 8,\n",
    "    'text.usetex': True,\n",
    "    'pgf.rcfonts': False,\n",
    "    'pgf.preamble': tex_preamble,\n",
    "})"
   ]
  },
  {
   "cell_type": "code",
   "execution_count": 3,
   "metadata": {
    "execution": {
     "iopub.execute_input": "2024-09-07T02:05:18.439352Z",
     "iopub.status.busy": "2024-09-07T02:05:18.438587Z",
     "iopub.status.idle": "2024-09-07T02:05:18.464636Z",
     "shell.execute_reply": "2024-09-07T02:05:18.463688Z"
    }
   },
   "outputs": [],
   "source": [
    "n = 200\n",
    "Λ = np.hstack([np.linspace(-6,-1,n//2),np.linspace(1,10,n//2)])\n",
    "\n",
    "A = np.diag(Λ)\n",
    "\n",
    "b = np.ones(n)\n",
    "b /= np.linalg.norm(b)\n",
    "\n",
    "f = lambda x: 1/x\n",
    "\n",
    "fAb = np.diag(f(Λ))@b"
   ]
  },
  {
   "cell_type": "code",
   "execution_count": 4,
   "metadata": {
    "execution": {
     "iopub.execute_input": "2024-09-07T02:05:18.470807Z",
     "iopub.status.busy": "2024-09-07T02:05:18.469781Z",
     "iopub.status.idle": "2024-09-07T02:05:18.591187Z",
     "shell.execute_reply": "2024-09-07T02:05:18.589042Z"
    }
   },
   "outputs": [],
   "source": [
    "k_max = 51\n",
    "Q_ro,(α_ro,β_ro) = lanczos_reorth(A,b,k_max,reorth=k_max)\n",
    "\n",
    "T = np.zeros((k_max+1,k_max))\n",
    "T[:k_max,:k_max] = np.diag(α_ro) + np.diag(β_ro[:-1],1) + np.diag(β_ro[:-1],-1)\n",
    "T[k_max,k_max-1] = β_ro[-1]\n",
    "\n",
    "res_CG = np.full(k_max,np.nan)\n",
    "res_MR = np.full(k_max,np.nan)\n",
    "for k in range(k_max):\n",
    "    res_CG[k] = np.linalg.norm(b - A@lanczos_FA(f,Q_ro,α_ro,β_ro,k))\n",
    "\n",
    "    Tk1k = T[:k+1,:k]\n",
    "    Qk = Q_ro[:,:k]\n",
    "    \n",
    "    e1 = np.zeros(k+1)\n",
    "    e1[0] = 1\n",
    "    sol = np.linalg.lstsq(Tk1k,e1,rcond=None)\n",
    "    x_MR = np.linalg.norm(b)*Qk@sol[0]\n",
    "    res_MR[k] = np.linalg.norm(b)*sol[1][0]**.5\n"
   ]
  },
  {
   "cell_type": "code",
   "execution_count": 5,
   "metadata": {
    "execution": {
     "iopub.execute_input": "2024-09-07T02:05:18.599385Z",
     "iopub.status.busy": "2024-09-07T02:05:18.598678Z",
     "iopub.status.idle": "2024-09-07T02:05:36.740339Z",
     "shell.execute_reply": "2024-09-07T02:05:36.739319Z"
    }
   },
   "outputs": [],
   "source": [
    "fig = plt.figure(figsize=(figure_width*cm,figure_height*cm))\n",
    "\n",
    "ax = fig.add_axes([left, bottom, width, height])\n",
    "\n",
    "ax.plot(res_CG,**line_styles['l1'],label='CG')\n",
    "ax.plot(res_MR,**line_styles['l2'],label='MINRES')\n",
    "#ax.plot(np.sqrt(np.arange(k_max)+1)*res_MR)\n",
    "\n",
    "ax.grid(True,linestyle=':',linewidth=.5)\n",
    "\n",
    "ax.set_xlabel('number of matvecs: $k$')\n",
    "ax.set_ylabel('residual norm')\n",
    "ax.set_yscale('log')\n",
    "\n",
    "plt.savefig('imgs/CG_MINRES.pdf')\n",
    "plt.close()"
   ]
  },
  {
   "cell_type": "code",
   "execution_count": null,
   "metadata": {},
   "outputs": [],
   "source": []
  }
 ],
 "metadata": {
  "kernelspec": {
   "display_name": "Python 3 (ipykernel)",
   "language": "python",
   "name": "python3"
  },
  "language_info": {
   "codemirror_mode": {
    "name": "ipython",
    "version": 3
   },
   "file_extension": ".py",
   "mimetype": "text/x-python",
   "name": "python",
   "nbconvert_exporter": "python",
   "pygments_lexer": "ipython3",
   "version": "3.10.9"
  }
 },
 "nbformat": 4,
 "nbformat_minor": 4
}
