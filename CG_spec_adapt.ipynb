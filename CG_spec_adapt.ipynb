{
 "cells": [
  {
   "cell_type": "code",
   "execution_count": 1,
   "metadata": {
    "execution": {
     "iopub.execute_input": "2024-09-07T02:05:43.458970Z",
     "iopub.status.busy": "2024-09-07T02:05:43.457758Z",
     "iopub.status.idle": "2024-09-07T02:05:44.235923Z",
     "shell.execute_reply": "2024-09-07T02:05:44.234781Z"
    }
   },
   "outputs": [],
   "source": [
    "import numpy as np\n",
    "import matplotlib.pyplot as plt\n",
    "import matplotlib as mpl\n",
    "\n",
    "from bin import *\n",
    "\n",
    "from IPython.display import clear_output\n",
    "%load_ext autoreload\n",
    "%autoreload 2"
   ]
  },
  {
   "cell_type": "code",
   "execution_count": 2,
   "metadata": {
    "execution": {
     "iopub.execute_input": "2024-09-07T02:05:44.240740Z",
     "iopub.status.busy": "2024-09-07T02:05:44.240275Z",
     "iopub.status.idle": "2024-09-07T02:05:44.412919Z",
     "shell.execute_reply": "2024-09-07T02:05:44.411737Z"
    }
   },
   "outputs": [],
   "source": [
    "mpl.use(\"pgf\")\n",
    "\n",
    "mpl.rcParams.update({\n",
    "    \"pgf.texsystem\": \"lualatex\",\n",
    "    'font.family': 'serif',\n",
    "    'font.size' : 8,\n",
    "    'text.usetex': True,\n",
    "    'pgf.rcfonts': False,\n",
    "    'pgf.preamble': tex_preamble,\n",
    "})"
   ]
  },
  {
   "cell_type": "code",
   "execution_count": 3,
   "metadata": {
    "execution": {
     "iopub.execute_input": "2024-09-07T02:05:44.417559Z",
     "iopub.status.busy": "2024-09-07T02:05:44.417182Z",
     "iopub.status.idle": "2024-09-07T02:05:44.438780Z",
     "shell.execute_reply": "2024-09-07T02:05:44.437742Z"
    }
   },
   "outputs": [],
   "source": [
    "n = 100\n",
    "Λ = model_problem_spectrum(n,.6,1e3)\n",
    "λmin = np.min(Λ)\n",
    "λmax = np.max(Λ)\n",
    "\n",
    "A = np.diag(Λ)\n",
    "\n",
    "b = np.ones(n)\n",
    "b /= np.linalg.norm(b)\n",
    "\n",
    "f = lambda x: 1/x\n",
    "\n",
    "fAb = np.diag(f(Λ))@b"
   ]
  },
  {
   "cell_type": "code",
   "execution_count": 4,
   "metadata": {
    "execution": {
     "iopub.execute_input": "2024-09-07T02:05:44.443097Z",
     "iopub.status.busy": "2024-09-07T02:05:44.442753Z",
     "iopub.status.idle": "2024-09-07T02:05:44.513549Z",
     "shell.execute_reply": "2024-09-07T02:05:44.512619Z"
    }
   },
   "outputs": [],
   "source": [
    "k_max = 61\n",
    "Q,(α,β) = lanczos_reorth(A,b,k_max,reorth=0)\n",
    "\n",
    "err_FA = np.full(k_max,np.nan)\n",
    "for k in range(k_max):\n",
    "    err_FA[k] = np.linalg.norm(np.diag(np.sqrt(Λ))@(fAb - lanczos_FA(f,Q,α,β,k)))"
   ]
  },
  {
   "cell_type": "code",
   "execution_count": 5,
   "metadata": {
    "execution": {
     "iopub.execute_input": "2024-09-07T02:05:44.517870Z",
     "iopub.status.busy": "2024-09-07T02:05:44.517526Z",
     "iopub.status.idle": "2024-09-07T02:05:44.542173Z",
     "shell.execute_reply": "2024-09-07T02:05:44.541159Z"
    }
   },
   "outputs": [],
   "source": [
    "k_max_ro = 24\n",
    "Q_ro,(α_ro,β_ro) = lanczos_reorth(A,b,k_max_ro,reorth=k_max_ro)\n",
    "\n",
    "err_FA_ro = np.full(k_max_ro,np.nan)\n",
    "for k in range(k_max_ro):\n",
    "    err_FA_ro[k] = np.linalg.norm(np.diag(np.sqrt(Λ))@(fAb - lanczos_FA(f,Q_ro,α_ro,β_ro,k)))"
   ]
  },
  {
   "cell_type": "code",
   "execution_count": 6,
   "metadata": {
    "execution": {
     "iopub.execute_input": "2024-09-07T02:05:44.546513Z",
     "iopub.status.busy": "2024-09-07T02:05:44.546146Z",
     "iopub.status.idle": "2024-09-07T02:05:44.566390Z",
     "shell.execute_reply": "2024-09-07T02:05:44.565362Z"
    }
   },
   "outputs": [],
   "source": [
    "err_κ = 2*np.exp(-2*np.arange(k_max)/np.sqrt(λmax/λmin))"
   ]
  },
  {
   "cell_type": "code",
   "execution_count": 7,
   "metadata": {
    "execution": {
     "iopub.execute_input": "2024-09-07T02:05:44.570702Z",
     "iopub.status.busy": "2024-09-07T02:05:44.570370Z",
     "iopub.status.idle": "2024-09-07T02:05:44.621099Z",
     "shell.execute_reply": "2024-09-07T02:05:44.619742Z"
    }
   },
   "outputs": [],
   "source": [
    "err_Λ = np.full(k_max_ro,np.nan)\n",
    "err_Λ[0] = 1\n",
    "i=[1]\n",
    "for k in range(k_max_ro-1):\n",
    "    i_add = np.argmax(np.min(np.abs(Λ[i]-Λ[:,None]),axis=1))\n",
    "    i = np.append(i,i_add)\n",
    "    i = np.sort(i)\n",
    "    i,p,ub,lb = remez_zero(f,Λ,k,i=i,tol=1e-10,max_iter=300)\n",
    "    err_Λ[k+1] = ub"
   ]
  },
  {
   "cell_type": "code",
   "execution_count": 8,
   "metadata": {
    "execution": {
     "iopub.execute_input": "2024-09-07T02:05:44.625795Z",
     "iopub.status.busy": "2024-09-07T02:05:44.625392Z",
     "iopub.status.idle": "2024-09-07T02:06:00.224065Z",
     "shell.execute_reply": "2024-09-07T02:06:00.223175Z"
    }
   },
   "outputs": [],
   "source": [
    "fig = plt.figure(figsize=(figure_width*cm,figure_height*cm))\n",
    "\n",
    "ax = fig.add_axes([left, bottom, width, height])\n",
    "\n",
    "ax.plot(err_Λ,**line_styles['l4'],label='bound on $\\Lambda$')\n",
    "ax.plot(err_κ,**line_styles['l3'],label=r'bound on $\\mathcal{I}$')\n",
    "ax.plot(err_FA_ro/err_FA_ro[0],**line_styles['l2'],label='reorth')\n",
    "ax.plot(err_FA/err_FA[0],**line_styles['l1'],label='no reorth')\n",
    "\n",
    "ax.grid(True,linestyle=':',linewidth=.5)\n",
    "\n",
    "ax.set_xlabel('number of matvecs: $k$')\n",
    "ax.set_ylabel('error norm')\n",
    "ax.set_yscale('log')\n",
    "\n",
    "plt.savefig('imgs/unif_vs_spec.pdf')\n",
    "plt.close()"
   ]
  },
  {
   "cell_type": "code",
   "execution_count": null,
   "metadata": {},
   "outputs": [],
   "source": []
  }
 ],
 "metadata": {
  "kernelspec": {
   "display_name": "Python 3 (ipykernel)",
   "language": "python",
   "name": "python3"
  },
  "language_info": {
   "codemirror_mode": {
    "name": "ipython",
    "version": 3
   },
   "file_extension": ".py",
   "mimetype": "text/x-python",
   "name": "python",
   "nbconvert_exporter": "python",
   "pygments_lexer": "ipython3",
   "version": "3.10.9"
  }
 },
 "nbformat": 4,
 "nbformat_minor": 4
}
