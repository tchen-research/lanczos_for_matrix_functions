{
 "cells": [
  {
   "cell_type": "code",
   "execution_count": 1,
   "metadata": {
    "execution": {
     "iopub.execute_input": "2024-09-07T02:07:31.952954Z",
     "iopub.status.busy": "2024-09-07T02:07:31.952101Z",
     "iopub.status.idle": "2024-09-07T02:07:32.710782Z",
     "shell.execute_reply": "2024-09-07T02:07:32.709869Z"
    }
   },
   "outputs": [],
   "source": [
    "import numpy as np\n",
    "import matplotlib.pyplot as plt\n",
    "import matplotlib as mpl\n",
    "\n",
    "from bin import *\n",
    "\n",
    "from IPython.display import clear_output\n",
    "%load_ext autoreload\n",
    "%autoreload 2"
   ]
  },
  {
   "cell_type": "code",
   "execution_count": 2,
   "metadata": {
    "execution": {
     "iopub.execute_input": "2024-09-07T02:07:32.715621Z",
     "iopub.status.busy": "2024-09-07T02:07:32.715162Z",
     "iopub.status.idle": "2024-09-07T02:07:32.890950Z",
     "shell.execute_reply": "2024-09-07T02:07:32.889944Z"
    }
   },
   "outputs": [],
   "source": [
    "mpl.use(\"pgf\")\n",
    "\n",
    "mpl.rcParams.update({\n",
    "    \"pgf.texsystem\": \"lualatex\",\n",
    "    'font.family': 'serif',\n",
    "    'font.size' : 8,\n",
    "    'text.usetex': True,\n",
    "    'pgf.rcfonts': False,\n",
    "    'pgf.preamble': tex_preamble,\n",
    "})"
   ]
  },
  {
   "cell_type": "code",
   "execution_count": 3,
   "metadata": {
    "execution": {
     "iopub.execute_input": "2024-09-07T02:07:32.895574Z",
     "iopub.status.busy": "2024-09-07T02:07:32.895168Z",
     "iopub.status.idle": "2024-09-07T02:07:32.919009Z",
     "shell.execute_reply": "2024-09-07T02:07:32.918041Z"
    }
   },
   "outputs": [],
   "source": [
    "n = 1000\n",
    "Λ = np.linspace(-1,1,n)\n",
    "\n",
    "A = np.diag(Λ)\n",
    "b = (Λ-1)*(Λ-.7)*(Λ-.2)*(Λ+.5)*(Λ+1)+.25\n",
    "b /= np.linalg.norm(b)"
   ]
  },
  {
   "cell_type": "code",
   "execution_count": 4,
   "metadata": {
    "execution": {
     "iopub.execute_input": "2024-09-07T02:07:32.923213Z",
     "iopub.status.busy": "2024-09-07T02:07:32.922880Z",
     "iopub.status.idle": "2024-09-07T02:07:32.953727Z",
     "shell.execute_reply": "2024-09-07T02:07:32.952064Z"
    }
   },
   "outputs": [],
   "source": [
    "k_max = 6\n",
    "Q,(α,β) = lanczos_reorth(A,b,k_max,reorth=0)\n",
    "T = np.diag(α) + np.diag(β[:k_max-1],1) + np.diag(β[:k_max-1],-1)\n",
    "Θ,S = np.linalg.eigh(T)"
   ]
  },
  {
   "cell_type": "code",
   "execution_count": 5,
   "metadata": {
    "execution": {
     "iopub.execute_input": "2024-09-07T02:07:32.959726Z",
     "iopub.status.busy": "2024-09-07T02:07:32.959292Z",
     "iopub.status.idle": "2024-09-07T02:07:32.993442Z",
     "shell.execute_reply": "2024-09-07T02:07:32.992076Z"
    }
   },
   "outputs": [],
   "source": [
    "xx = np.sort(np.hstack([Λ,Θ-1e-5,Θ+1e-5]))\n",
    "\n",
    "M1 = np.sum(b[:,None]**2*(Λ[:,None]<xx),axis=0)\n",
    "M2 = np.sum(S[0][:,None]**2*(Θ[:,None]<xx),axis=0)"
   ]
  },
  {
   "cell_type": "code",
   "execution_count": 6,
   "metadata": {
    "execution": {
     "iopub.execute_input": "2024-09-07T02:07:32.998902Z",
     "iopub.status.busy": "2024-09-07T02:07:32.998477Z",
     "iopub.status.idle": "2024-09-07T02:07:48.911496Z",
     "shell.execute_reply": "2024-09-07T02:07:48.910589Z"
    }
   },
   "outputs": [],
   "source": [
    "fig = plt.figure(figsize=(figure_width*cm,figure_height*cm))\n",
    "\n",
    "ax = fig.add_axes([left, bottom, width, height])\n",
    "\n",
    "ax.plot(xx,M1,**line_styles_nomarker['l2'])\n",
    "ax.plot(xx,M1,**line_styles_nomarker1['l2'])\n",
    "ax.step(np.hstack([[-1.1],Θ,[1.1]]),\\\n",
    "        np.hstack([[0],np.cumsum(S[0]**2),[1]]),where='post',**line_styles_nomarker['l1'])\n",
    "\n",
    "ax.set_xlabel('eigenvalue position: $x$');\n",
    "ax.set_ylabel('cumulative distribution')\n",
    "\n",
    "plt.savefig('imgs/GQ_dist_interlace.pdf')\n",
    "plt.close()"
   ]
  },
  {
   "cell_type": "code",
   "execution_count": 7,
   "metadata": {
    "execution": {
     "iopub.execute_input": "2024-09-07T02:07:48.916891Z",
     "iopub.status.busy": "2024-09-07T02:07:48.916307Z",
     "iopub.status.idle": "2024-09-07T02:08:01.068619Z",
     "shell.execute_reply": "2024-09-07T02:08:01.067401Z"
    }
   },
   "outputs": [],
   "source": [
    "fig = plt.figure(figsize=(figure_width*cm,figure_height*cm))\n",
    "\n",
    "ax = fig.add_axes([left, bottom, width, height])\n",
    "\n",
    "ax.plot(xx,M1,**line_styles_nomarker['l2'])\n",
    "ax.plot(xx,M1,**line_styles_nomarker1['l2'])\n",
    "ax.step(np.hstack([[-1.1],Θ,[1.1]]),\\\n",
    "        np.hstack([[0],np.cumsum(S[0]**2),[1]]),where='post',**line_styles_nomarker['l1'])\n",
    "\n",
    "ax.fill_between(xx,M1,M2,alpha=.2,**line_styles_nomarker['l1'])\n",
    "\n",
    "ax.set_xlabel('eigenvalue position: $x$');\n",
    "ax.set_ylabel('cumulative distribution')\n",
    "\n",
    "plt.savefig('imgs/wasserstein_vis.pdf')\n",
    "plt.close()"
   ]
  },
  {
   "cell_type": "code",
   "execution_count": null,
   "metadata": {},
   "outputs": [],
   "source": []
  }
 ],
 "metadata": {
  "kernelspec": {
   "display_name": "Python 3 (ipykernel)",
   "language": "python",
   "name": "python3"
  },
  "language_info": {
   "codemirror_mode": {
    "name": "ipython",
    "version": 3
   },
   "file_extension": ".py",
   "mimetype": "text/x-python",
   "name": "python",
   "nbconvert_exporter": "python",
   "pygments_lexer": "ipython3",
   "version": "3.10.9"
  }
 },
 "nbformat": 4,
 "nbformat_minor": 4
}
