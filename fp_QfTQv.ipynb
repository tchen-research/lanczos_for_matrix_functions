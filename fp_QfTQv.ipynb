{
 "cells": [
  {
   "cell_type": "code",
   "execution_count": 1,
   "metadata": {
    "execution": {
     "iopub.execute_input": "2024-09-07T02:07:07.975513Z",
     "iopub.status.busy": "2024-09-07T02:07:07.975136Z",
     "iopub.status.idle": "2024-09-07T02:07:08.768536Z",
     "shell.execute_reply": "2024-09-07T02:07:08.767398Z"
    }
   },
   "outputs": [],
   "source": [
    "import numpy as np\n",
    "import matplotlib.pyplot as plt\n",
    "import matplotlib as mpl\n",
    "\n",
    "from bin import *\n",
    "\n",
    "from IPython.display import clear_output\n",
    "%load_ext autoreload\n",
    "%autoreload 2"
   ]
  },
  {
   "cell_type": "code",
   "execution_count": 2,
   "metadata": {
    "execution": {
     "iopub.execute_input": "2024-09-07T02:07:08.773331Z",
     "iopub.status.busy": "2024-09-07T02:07:08.772887Z",
     "iopub.status.idle": "2024-09-07T02:07:08.943487Z",
     "shell.execute_reply": "2024-09-07T02:07:08.942419Z"
    }
   },
   "outputs": [],
   "source": [
    "mpl.use(\"pgf\")\n",
    "\n",
    "mpl.rcParams.update({\n",
    "    \"pgf.texsystem\": \"lualatex\",\n",
    "    'font.family': 'serif',\n",
    "    'font.size' : 8,\n",
    "    'text.usetex': True,\n",
    "    'pgf.rcfonts': False,\n",
    "    'pgf.preamble': tex_preamble,\n",
    "})"
   ]
  },
  {
   "cell_type": "code",
   "execution_count": 3,
   "metadata": {
    "execution": {
     "iopub.execute_input": "2024-09-07T02:07:08.948151Z",
     "iopub.status.busy": "2024-09-07T02:07:08.947806Z",
     "iopub.status.idle": "2024-09-07T02:07:08.969859Z",
     "shell.execute_reply": "2024-09-07T02:07:08.968774Z"
    }
   },
   "outputs": [],
   "source": [
    "n = 100\n",
    "Λ = model_problem_spectrum(n,.6,1e3)\n",
    "λmin = np.min(Λ)\n",
    "λmax = np.max(Λ)\n",
    "\n",
    "A = np.diag(Λ)\n",
    "\n",
    "b = np.ones(n)\n",
    "b /= np.linalg.norm(b)\n",
    "\n",
    "f = lambda x: np.exp(-x)\n",
    "\n",
    "fAb = np.diag(f(Λ))@b"
   ]
  },
  {
   "cell_type": "code",
   "execution_count": 4,
   "metadata": {
    "execution": {
     "iopub.execute_input": "2024-09-07T02:07:08.975381Z",
     "iopub.status.busy": "2024-09-07T02:07:08.974906Z",
     "iopub.status.idle": "2024-09-07T02:07:09.003646Z",
     "shell.execute_reply": "2024-09-07T02:07:09.002605Z"
    }
   },
   "outputs": [],
   "source": [
    "def lanczos_FA_bad(f,Q,b,α,β,k,normb=1):\n",
    "    \n",
    "    if k==0:\n",
    "        return np.zeros_like(Q[:,0])\n",
    "        \n",
    "    Θ,S = sp.linalg.eigh_tridiagonal(α[:k],β[:k-1],tol=1e-30)\n",
    "    \n",
    "    return Q[:,:k]@(S@(f(Θ)*(S.T)))@Q[:,:k].T@b"
   ]
  },
  {
   "cell_type": "code",
   "execution_count": 5,
   "metadata": {
    "execution": {
     "iopub.execute_input": "2024-09-07T02:07:09.008704Z",
     "iopub.status.busy": "2024-09-07T02:07:09.007860Z",
     "iopub.status.idle": "2024-09-07T02:07:09.086634Z",
     "shell.execute_reply": "2024-09-07T02:07:09.085255Z"
    }
   },
   "outputs": [],
   "source": [
    "k_max = 44\n",
    "Q,(α,β) = lanczos_reorth(A,b,k_max,reorth=0)\n",
    "\n",
    "err_FA = np.full(k_max,np.nan)\n",
    "for k in range(k_max):\n",
    "    err_FA[k] = np.linalg.norm(fAb - lanczos_FA(f,Q,α,β,k))\n",
    "\n",
    "\n",
    "err_FA_bad = np.full(k_max,np.nan)\n",
    "for k in range(k_max):\n",
    "    err_FA_bad[k] = np.linalg.norm(fAb - lanczos_FA_bad(f,Q,b,α,β,k))"
   ]
  },
  {
   "cell_type": "code",
   "execution_count": 6,
   "metadata": {
    "execution": {
     "iopub.execute_input": "2024-09-07T02:07:09.091985Z",
     "iopub.status.busy": "2024-09-07T02:07:09.091583Z",
     "iopub.status.idle": "2024-09-07T02:07:25.050033Z",
     "shell.execute_reply": "2024-09-07T02:07:25.049009Z"
    }
   },
   "outputs": [],
   "source": [
    "fig = plt.figure(figsize=(figure_width*cm,figure_height*cm))\n",
    "\n",
    "ax = fig.add_axes([left, bottom, width, height])\n",
    "\n",
    "ax.plot(err_FA_bad,**line_styles['l2'],label='no reorth')\n",
    "ax.plot(err_FA,**line_styles['l1'],label='no reorth')\n",
    "\n",
    "ax.grid(True,linestyle=':',linewidth=.5)\n",
    "\n",
    "ax.set_xlabel('number of matvecs: $k$')\n",
    "ax.set_ylabel('error norm')\n",
    "ax.set_yscale('log')\n",
    "\n",
    "plt.savefig('imgs/QfTQv_QfTe1.pdf')\n",
    "plt.close()"
   ]
  },
  {
   "cell_type": "code",
   "execution_count": null,
   "metadata": {},
   "outputs": [],
   "source": []
  }
 ],
 "metadata": {
  "kernelspec": {
   "display_name": "Python 3 (ipykernel)",
   "language": "python",
   "name": "python3"
  },
  "language_info": {
   "codemirror_mode": {
    "name": "ipython",
    "version": 3
   },
   "file_extension": ".py",
   "mimetype": "text/x-python",
   "name": "python",
   "nbconvert_exporter": "python",
   "pygments_lexer": "ipython3",
   "version": "3.10.9"
  }
 },
 "nbformat": 4,
 "nbformat_minor": 4
}
